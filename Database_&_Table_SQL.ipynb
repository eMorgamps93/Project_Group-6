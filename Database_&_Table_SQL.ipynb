{
 "cells": [
  {
   "cell_type": "markdown",
   "metadata": {},
   "source": [
    "> ***Python Project (Group 6)***  \n",
    "\n",
    "By:  \n",
    "- Papa Kofi Arhin  \n",
    "- Timothy Amissah  \n",
    "- Joshua Kwaku Lary  \n",
    "- Eddie Morgan"
   ]
  },
  {
   "cell_type": "markdown",
   "metadata": {},
   "source": [
    "***Database Import into SQL using SQLite3 package***"
   ]
  },
  {
   "cell_type": "code",
   "execution_count": 1,
   "metadata": {},
   "outputs": [],
   "source": [
    "#importing libraries:\n",
    "\n",
    "import sqlite3\n",
    "import csv\n",
    "import pandas as pd"
   ]
  },
  {
   "cell_type": "code",
   "execution_count": 2,
   "metadata": {},
   "outputs": [],
   "source": [
    "conn = sqlite3.connect('Finance_Companies.db') #creating a database in SQL called 'Group_6.db'\n",
    "cursor = conn.cursor() #establishing a connection between Python and SQL"
   ]
  },
  {
   "cell_type": "code",
   "execution_count": 3,
   "metadata": {},
   "outputs": [
    {
     "ename": "OperationalError",
     "evalue": "table Company_Details already exists",
     "output_type": "error",
     "traceback": [
      "\u001b[1;31m---------------------------------------------------------------------------\u001b[0m",
      "\u001b[1;31mOperationalError\u001b[0m                          Traceback (most recent call last)",
      "Cell \u001b[1;32mIn[3], line 15\u001b[0m\n\u001b[0;32m      2\u001b[0m create_table \u001b[38;5;241m=\u001b[39m \u001b[38;5;124m\"\"\"\u001b[39m\u001b[38;5;124mCREATE TABLE Company_Details(                \u001b[39m\n\u001b[0;32m      3\u001b[0m \u001b[38;5;124m                        CLCODE INT PRIMARY KEY,\u001b[39m\n\u001b[0;32m      4\u001b[0m \u001b[38;5;124m                        NAME VARCHAR(255),\u001b[39m\n\u001b[1;32m   (...)\u001b[0m\n\u001b[0;32m     11\u001b[0m \u001b[38;5;124m                        REPDTE DATE);\u001b[39m\n\u001b[0;32m     12\u001b[0m \u001b[38;5;124m                \u001b[39m\u001b[38;5;124m\"\"\"\u001b[39m\n\u001b[0;32m     14\u001b[0m \u001b[38;5;66;03m#fname means 'first name'. lname means 'last name'.\u001b[39;00m\n\u001b[1;32m---> 15\u001b[0m \u001b[43mcursor\u001b[49m\u001b[38;5;241;43m.\u001b[39;49m\u001b[43mexecute\u001b[49m\u001b[43m(\u001b[49m\u001b[43mcreate_table\u001b[49m\u001b[43m)\u001b[49m \u001b[38;5;66;03m#this needs to be done to save/store the table into your database.\u001b[39;00m\n",
      "\u001b[1;31mOperationalError\u001b[0m: table Company_Details already exists"
     ]
    }
   ],
   "source": [
    "#create table in SQL:\n",
    "create_table = \"\"\"CREATE TABLE Company_Details(                \n",
    "                        CLCODE INT PRIMARY KEY,\n",
    "                        NAME VARCHAR(255),\n",
    "                        STNAME TEXT,\n",
    "                        ACTIVE VARCHAR(1),\n",
    "                        ESTYMD DATE,\n",
    "                        NETINC REAL,\n",
    "                        ASSET REAL,\n",
    "                        EQ REAL,\n",
    "                        REPDTE DATE);\n",
    "                \"\"\"\n",
    "\n",
    "#fname means 'first name'. lname means 'last name'.\n",
    "cursor.execute(create_table) #this needs to be done to save/store the table into your database."
   ]
  },
  {
   "cell_type": "code",
   "execution_count": 4,
   "metadata": {},
   "outputs": [],
   "source": [
    "with open(\"Financial_Institutions.csv\") as f:\n",
    "    data = csv.reader(f)\n",
    "    for row in data:\n",
    "        for row in data:\n",
    "            if row[0] == 'CLCODE':  # Skip the header row\n",
    "                continue\n",
    "\n",
    "            cursor.execute(\n",
    "                \"INSERT OR IGNORE INTO Company_Details VALUES (?, ?, ?, ?, ?, ?, ?, ?, ?)\", \n",
    "                (row[0], row[1], row[2], row[3], row[4], row[5], row[6], row[7], row[8]))\n"
   ]
  },
  {
   "cell_type": "code",
   "execution_count": 5,
   "metadata": {},
   "outputs": [
    {
     "data": {
      "text/plain": [
       "[(3,\n",
       "  'First National Bank of Millstadt',\n",
       "  'Illinois',\n",
       "  '0',\n",
       "  '11/3/1906',\n",
       "  -770.0,\n",
       "  86287.0,\n",
       "  10088.0,\n",
       "  '9/30/2007'),\n",
       " (21,\n",
       "  'Territory Bank',\n",
       "  'Oklahoma',\n",
       "  '0',\n",
       "  '1/1/1902',\n",
       "  -19.0,\n",
       "  13984.0,\n",
       "  1282.0,\n",
       "  '9/30/2006'),\n",
       " (13,\n",
       "  'The First Bank of Haskell',\n",
       "  'Oklahoma',\n",
       "  '0',\n",
       "  '7/31/1905',\n",
       "  427.0,\n",
       "  25991.0,\n",
       "  2239.0,\n",
       "  '12/31/2006')]"
      ]
     },
     "execution_count": 5,
     "metadata": {},
     "output_type": "execute_result"
    }
   ],
   "source": [
    "#show the rows of data in a list:\n",
    "\n",
    "rows = cursor.execute(\"SELECT * FROM Company_Details LIMIT 3\").fetchall()\n",
    "rows"
   ]
  },
  {
   "cell_type": "code",
   "execution_count": 6,
   "metadata": {},
   "outputs": [
    {
     "data": {
      "text/plain": [
       "<sqlite3.Cursor at 0x1fec9025140>"
      ]
     },
     "execution_count": 6,
     "metadata": {},
     "output_type": "execute_result"
    }
   ],
   "source": [
    "#Calculate Return on Assets (ROA) and add as a new column to the existing table:\n",
    "\n",
    "cursor.execute(\"ALTER TABLE Company_Details ADD COLUMN ROA REAL\")\n",
    "\n",
    "cursor.execute(\"\"\"UPDATE Company_Details SET ROA = (NETINC * 100) /ASSET WHERE ASSET > 0\"\"\")"
   ]
  },
  {
   "cell_type": "code",
   "execution_count": 7,
   "metadata": {},
   "outputs": [
    {
     "data": {
      "text/plain": [
       "<sqlite3.Cursor at 0x1fec9025140>"
      ]
     },
     "execution_count": 7,
     "metadata": {},
     "output_type": "execute_result"
    }
   ],
   "source": [
    "#Calculate Return on Equity (ROE) and add as a new column to the existing table:\n",
    "\n",
    "cursor.execute(\"ALTER TABLE Company_Details ADD COLUMN ROE REAL\")\n",
    "\n",
    "cursor.execute(\"\"\"UPDATE Company_Details SET ROE = (NETINC * 100)/EQ WHERE EQ > 0\"\"\")"
   ]
  },
  {
   "cell_type": "code",
   "execution_count": 8,
   "metadata": {},
   "outputs": [
    {
     "data": {
      "text/html": [
       "<div>\n",
       "<style scoped>\n",
       "    .dataframe tbody tr th:only-of-type {\n",
       "        vertical-align: middle;\n",
       "    }\n",
       "\n",
       "    .dataframe tbody tr th {\n",
       "        vertical-align: top;\n",
       "    }\n",
       "\n",
       "    .dataframe thead th {\n",
       "        text-align: right;\n",
       "    }\n",
       "</style>\n",
       "<table border=\"1\" class=\"dataframe\">\n",
       "  <thead>\n",
       "    <tr style=\"text-align: right;\">\n",
       "      <th></th>\n",
       "      <th>CLCODE</th>\n",
       "      <th>NAME</th>\n",
       "      <th>STNAME</th>\n",
       "      <th>ACTIVE</th>\n",
       "      <th>ESTYMD</th>\n",
       "      <th>NETINC</th>\n",
       "      <th>ASSET</th>\n",
       "      <th>EQ</th>\n",
       "      <th>REPDTE</th>\n",
       "      <th>ROA</th>\n",
       "      <th>ROE</th>\n",
       "    </tr>\n",
       "  </thead>\n",
       "  <tbody>\n",
       "    <tr>\n",
       "      <th>0</th>\n",
       "      <td>3</td>\n",
       "      <td>First National Bank of Millstadt</td>\n",
       "      <td>Illinois</td>\n",
       "      <td>0</td>\n",
       "      <td>11/3/1906</td>\n",
       "      <td>-770.0</td>\n",
       "      <td>86287.0</td>\n",
       "      <td>10088.0</td>\n",
       "      <td>9/30/2007</td>\n",
       "      <td>-0.892371</td>\n",
       "      <td>-7.632831</td>\n",
       "    </tr>\n",
       "    <tr>\n",
       "      <th>1</th>\n",
       "      <td>21</td>\n",
       "      <td>Territory Bank</td>\n",
       "      <td>Oklahoma</td>\n",
       "      <td>0</td>\n",
       "      <td>1/1/1902</td>\n",
       "      <td>-19.0</td>\n",
       "      <td>13984.0</td>\n",
       "      <td>1282.0</td>\n",
       "      <td>9/30/2006</td>\n",
       "      <td>-0.135870</td>\n",
       "      <td>-1.482059</td>\n",
       "    </tr>\n",
       "    <tr>\n",
       "      <th>2</th>\n",
       "      <td>13</td>\n",
       "      <td>The First Bank of Haskell</td>\n",
       "      <td>Oklahoma</td>\n",
       "      <td>0</td>\n",
       "      <td>7/31/1905</td>\n",
       "      <td>427.0</td>\n",
       "      <td>25991.0</td>\n",
       "      <td>2239.0</td>\n",
       "      <td>12/31/2006</td>\n",
       "      <td>1.642876</td>\n",
       "      <td>19.071014</td>\n",
       "    </tr>\n",
       "    <tr>\n",
       "      <th>3</th>\n",
       "      <td>50</td>\n",
       "      <td>The First National Bank and Trust, Wibaux, Mon...</td>\n",
       "      <td>Montana</td>\n",
       "      <td>0</td>\n",
       "      <td>6/16/1906</td>\n",
       "      <td>39.0</td>\n",
       "      <td>1602.0</td>\n",
       "      <td>1602.0</td>\n",
       "      <td>9/30/1997</td>\n",
       "      <td>2.434457</td>\n",
       "      <td>2.434457</td>\n",
       "    </tr>\n",
       "    <tr>\n",
       "      <th>4</th>\n",
       "      <td>33</td>\n",
       "      <td>Chittenden Trust Company</td>\n",
       "      <td>Vermont</td>\n",
       "      <td>0</td>\n",
       "      <td>11/5/1906</td>\n",
       "      <td>41463.0</td>\n",
       "      <td>3793058.0</td>\n",
       "      <td>613282.0</td>\n",
       "      <td>12/31/2008</td>\n",
       "      <td>1.093129</td>\n",
       "      <td>6.760838</td>\n",
       "    </tr>\n",
       "    <tr>\n",
       "      <th>5</th>\n",
       "      <td>42</td>\n",
       "      <td>Farmers &amp; Mechanics Savings Bank of Minneapolis</td>\n",
       "      <td>Minnesota</td>\n",
       "      <td>0</td>\n",
       "      <td>01/01/1874</td>\n",
       "      <td></td>\n",
       "      <td></td>\n",
       "      <td></td>\n",
       "      <td></td>\n",
       "      <td>NaN</td>\n",
       "      <td>NaN</td>\n",
       "    </tr>\n",
       "    <tr>\n",
       "      <th>6</th>\n",
       "      <td>43</td>\n",
       "      <td>Trenton Savings Bank FSB</td>\n",
       "      <td>New Jersey</td>\n",
       "      <td>0</td>\n",
       "      <td>01/01/1844</td>\n",
       "      <td>4053.0</td>\n",
       "      <td>1372557.0</td>\n",
       "      <td>241267.0</td>\n",
       "      <td>3/31/1999</td>\n",
       "      <td>0.295288</td>\n",
       "      <td>1.679882</td>\n",
       "    </tr>\n",
       "    <tr>\n",
       "      <th>7</th>\n",
       "      <td>41</td>\n",
       "      <td>Germantown Savings Bank</td>\n",
       "      <td>Pennsylvania</td>\n",
       "      <td>0</td>\n",
       "      <td>04/06/1854</td>\n",
       "      <td>16778.0</td>\n",
       "      <td>1564697.0</td>\n",
       "      <td>156096.0</td>\n",
       "      <td>9/30/1994</td>\n",
       "      <td>1.072284</td>\n",
       "      <td>10.748514</td>\n",
       "    </tr>\n",
       "    <tr>\n",
       "      <th>8</th>\n",
       "      <td>44</td>\n",
       "      <td>The Lincoln Savings Bank, FSB</td>\n",
       "      <td>New York</td>\n",
       "      <td>0</td>\n",
       "      <td>06/30/1866</td>\n",
       "      <td>-3061.0</td>\n",
       "      <td>2093569.0</td>\n",
       "      <td>121703.0</td>\n",
       "      <td>6/30/1994</td>\n",
       "      <td>-0.146210</td>\n",
       "      <td>-2.515139</td>\n",
       "    </tr>\n",
       "    <tr>\n",
       "      <th>9</th>\n",
       "      <td>23</td>\n",
       "      <td>Mill Creek Bank</td>\n",
       "      <td>Utah</td>\n",
       "      <td>0</td>\n",
       "      <td>11/17/1997</td>\n",
       "      <td>10162.0</td>\n",
       "      <td>2664982.0</td>\n",
       "      <td>333526.0</td>\n",
       "      <td>3/31/2003</td>\n",
       "      <td>0.381316</td>\n",
       "      <td>3.046839</td>\n",
       "    </tr>\n",
       "  </tbody>\n",
       "</table>\n",
       "</div>"
      ],
      "text/plain": [
       "   CLCODE                                               NAME        STNAME  \\\n",
       "0       3                   First National Bank of Millstadt      Illinois   \n",
       "1      21                                     Territory Bank      Oklahoma   \n",
       "2      13                          The First Bank of Haskell      Oklahoma   \n",
       "3      50  The First National Bank and Trust, Wibaux, Mon...       Montana   \n",
       "4      33                           Chittenden Trust Company       Vermont   \n",
       "5      42    Farmers & Mechanics Savings Bank of Minneapolis     Minnesota   \n",
       "6      43                           Trenton Savings Bank FSB    New Jersey   \n",
       "7      41                            Germantown Savings Bank  Pennsylvania   \n",
       "8      44                      The Lincoln Savings Bank, FSB      New York   \n",
       "9      23                                    Mill Creek Bank          Utah   \n",
       "\n",
       "  ACTIVE      ESTYMD   NETINC      ASSET        EQ      REPDTE       ROA  \\\n",
       "0      0   11/3/1906   -770.0    86287.0   10088.0   9/30/2007 -0.892371   \n",
       "1      0    1/1/1902    -19.0    13984.0    1282.0   9/30/2006 -0.135870   \n",
       "2      0   7/31/1905    427.0    25991.0    2239.0  12/31/2006  1.642876   \n",
       "3      0   6/16/1906     39.0     1602.0    1602.0   9/30/1997  2.434457   \n",
       "4      0   11/5/1906  41463.0  3793058.0  613282.0  12/31/2008  1.093129   \n",
       "5      0  01/01/1874                                                 NaN   \n",
       "6      0  01/01/1844   4053.0  1372557.0  241267.0   3/31/1999  0.295288   \n",
       "7      0  04/06/1854  16778.0  1564697.0  156096.0   9/30/1994  1.072284   \n",
       "8      0  06/30/1866  -3061.0  2093569.0  121703.0   6/30/1994 -0.146210   \n",
       "9      0  11/17/1997  10162.0  2664982.0  333526.0   3/31/2003  0.381316   \n",
       "\n",
       "         ROE  \n",
       "0  -7.632831  \n",
       "1  -1.482059  \n",
       "2  19.071014  \n",
       "3   2.434457  \n",
       "4   6.760838  \n",
       "5        NaN  \n",
       "6   1.679882  \n",
       "7  10.748514  \n",
       "8  -2.515139  \n",
       "9   3.046839  "
      ]
     },
     "execution_count": 8,
     "metadata": {},
     "output_type": "execute_result"
    }
   ],
   "source": [
    "#read SQL query as a data frame in Python:\n",
    "\n",
    "Data = pd.read_sql_query(\"SELECT * FROM Company_Details\", conn)\n",
    "Data.head(10)"
   ]
  },
  {
   "cell_type": "code",
   "execution_count": 9,
   "metadata": {},
   "outputs": [],
   "source": [
    "#Save and close the database\n",
    "\n",
    "conn.commit()\n",
    "# conn.close()"
   ]
  }
 ],
 "metadata": {
  "kernelspec": {
   "display_name": ".eddiedoc",
   "language": "python",
   "name": "python3"
  },
  "language_info": {
   "codemirror_mode": {
    "name": "ipython",
    "version": 3
   },
   "file_extension": ".py",
   "mimetype": "text/x-python",
   "name": "python",
   "nbconvert_exporter": "python",
   "pygments_lexer": "ipython3",
   "version": "3.12.8"
  }
 },
 "nbformat": 4,
 "nbformat_minor": 2
}
